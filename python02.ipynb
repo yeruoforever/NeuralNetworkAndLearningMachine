{
 "cells": [
  {
   "cell_type": "code",
   "execution_count": 1,
   "metadata": {},
   "outputs": [],
   "source": [
    "import numpy\n",
    "\n",
    "# A = numpy.random.randn(5, 5)\n",
    "# B = numpy.random.randn(5, 5)\n",
    "A = numpy.array([\n",
    "    [1, 6, 4, 3, 0],\n",
    "    [4, 1, 3, 0, 0],\n",
    "    [5, 0, 0, 1, 0],\n",
    "    [0, 0, 0, 0, 0],\n",
    "    [1, 1, 3, 6, 8]\n",
    "])\n",
    "B = numpy.array([\n",
    "    [1, 2, 4, 7, 0],\n",
    "    [0, 1, 1, 8, 0],\n",
    "    [2, 4, 0, 9, 0],\n",
    "    [1, 2, 6, 5, 8],\n",
    "    [2, 4, 0, 2, 1]\n",
    "])\n"
   ]
  },
  {
   "cell_type": "markdown",
   "metadata": {},
   "source": [
    "# A、B 每行的和\n"
   ]
  },
  {
   "cell_type": "code",
   "execution_count": 2,
   "metadata": {},
   "outputs": [
    {
     "name": "stdout",
     "output_type": "stream",
     "text": [
      "[14  8  6  0 19]\n",
      "[14 10 15 22  9]\n"
     ]
    }
   ],
   "source": [
    "print(A.sum(axis=1))\n",
    "print(B.sum(axis=1))"
   ]
  },
  {
   "cell_type": "markdown",
   "metadata": {},
   "source": [
    "# A、B 每列的和"
   ]
  },
  {
   "cell_type": "code",
   "execution_count": 3,
   "metadata": {},
   "outputs": [
    {
     "name": "stdout",
     "output_type": "stream",
     "text": [
      "[11  8 10 10  8]\n",
      "[11  8 10 10  8]\n"
     ]
    }
   ],
   "source": [
    "print(A.sum(axis=0))\n",
    "print(A.sum(axis=0))"
   ]
  },
  {
   "cell_type": "markdown",
   "metadata": {},
   "source": [
    "# A、B 所有元素的和"
   ]
  },
  {
   "cell_type": "code",
   "execution_count": 4,
   "metadata": {},
   "outputs": [
    {
     "name": "stdout",
     "output_type": "stream",
     "text": [
      "47\n",
      "70\n"
     ]
    }
   ],
   "source": [
    "print(A.sum())\n",
    "print(B.sum())"
   ]
  },
  {
   "cell_type": "markdown",
   "metadata": {},
   "source": [
    "# A矩阵元素除以该A矩阵所有元素和，输出得到的矩阵"
   ]
  },
  {
   "cell_type": "code",
   "execution_count": 5,
   "metadata": {},
   "outputs": [
    {
     "name": "stdout",
     "output_type": "stream",
     "text": [
      "[[0.0212766  0.12765957 0.08510638 0.06382979 0.        ]\n",
      " [0.08510638 0.0212766  0.06382979 0.         0.        ]\n",
      " [0.10638298 0.         0.         0.0212766  0.        ]\n",
      " [0.         0.         0.         0.         0.        ]\n",
      " [0.0212766  0.0212766  0.06382979 0.12765957 0.17021277]]\n"
     ]
    }
   ],
   "source": [
    "sumOfA = A.sum()\n",
    "AA = numpy.array(A, dtype=float)\n",
    "print(AA/sumOfA)"
   ]
  },
  {
   "cell_type": "markdown",
   "metadata": {},
   "source": [
    "# 矩阵存入名为“normalization.txt”文件中"
   ]
  },
  {
   "cell_type": "code",
   "execution_count": 6,
   "metadata": {},
   "outputs": [],
   "source": [
    "numpy.savetxt('normalization.txt', AA)"
   ]
  },
  {
   "cell_type": "markdown",
   "metadata": {},
   "source": [
    "# 输出A、B矩阵相乘矩阵的形状"
   ]
  },
  {
   "cell_type": "code",
   "execution_count": 7,
   "metadata": {},
   "outputs": [
    {
     "name": "stdout",
     "output_type": "stream",
     "text": [
      "(5, 5)\n"
     ]
    }
   ],
   "source": [
    "AdotB = numpy.dot(A, B)\n",
    "print(AdotB.shape)"
   ]
  },
  {
   "cell_type": "markdown",
   "metadata": {},
   "source": [
    "# 矩阵存入名为“multiply.txt”文件中"
   ]
  },
  {
   "cell_type": "code",
   "execution_count": 8,
   "metadata": {},
   "outputs": [],
   "source": [
    "numpy.savetxt('multiply.txt', AdotB)"
   ]
  },
  {
   "cell_type": "markdown",
   "metadata": {},
   "source": [
    "# 输出A的转置"
   ]
  },
  {
   "cell_type": "code",
   "execution_count": 9,
   "metadata": {},
   "outputs": [
    {
     "name": "stdout",
     "output_type": "stream",
     "text": [
      "[[1 4 5 0 1]\n",
      " [6 1 0 0 1]\n",
      " [4 3 0 0 3]\n",
      " [3 0 1 0 6]\n",
      " [0 0 0 0 8]]\n"
     ]
    }
   ],
   "source": [
    "At = numpy.transpose(A)\n",
    "print(At)"
   ]
  },
  {
   "cell_type": "markdown",
   "metadata": {},
   "source": [
    "# 计算A、B的和"
   ]
  },
  {
   "cell_type": "code",
   "execution_count": 10,
   "metadata": {},
   "outputs": [
    {
     "name": "stdout",
     "output_type": "stream",
     "text": [
      "[[ 2  8  8 10  0]\n",
      " [ 4  2  4  8  0]\n",
      " [ 7  4  0 10  0]\n",
      " [ 1  2  6  5  8]\n",
      " [ 3  5  3  8  9]]\n"
     ]
    }
   ],
   "source": [
    "sumOfAB = A+B\n",
    "print(sumOfAB)"
   ]
  }
 ],
 "metadata": {
  "kernelspec": {
   "display_name": "Python 3",
   "language": "python",
   "name": "python3"
  },
  "language_info": {
   "codemirror_mode": {
    "name": "ipython",
    "version": 3
   },
   "file_extension": ".py",
   "mimetype": "text/x-python",
   "name": "python",
   "nbconvert_exporter": "python",
   "pygments_lexer": "ipython3",
   "version": "3.7.2"
  }
 },
 "nbformat": 4,
 "nbformat_minor": 2
}
